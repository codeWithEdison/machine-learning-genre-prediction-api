{
 "cells": [
  {
   "cell_type": "code",
   "execution_count": 33,
   "id": "6eab8377-068c-43e2-bf55-7ec38cfdf29f",
   "metadata": {},
   "outputs": [],
   "source": [
    "# import libraries\n",
    "\n",
    "import pandas as pd\n",
    "from sklearn.tree import DecisionTreeClassifier\n",
    "\n",
    "# load data\n",
    "music = pd.read_csv('music.csv')\n",
    "music\n",
    "x=  music.drop(columns =['genre'])\n",
    "# x\n",
    "y = music['genre']\n",
    "# y\n",
    "# create model \n",
    "model = DecisionTreeClassifier()\n",
    "#train model\n",
    "model.fit(x,y)\n",
    "predictions =  model.predict(pd.DataFrame([[101,1],[10,0]], columns = x.columns))\n",
    "\n",
    "# print(predictions)"
   ]
  },
  {
   "cell_type": "code",
   "execution_count": 38,
   "id": "5dc4cac0-c028-40c7-a883-26bda73b26d5",
   "metadata": {},
   "outputs": [
    {
     "name": "stdout",
     "output_type": "stream",
     "text": [
      "test output: ['HipHop' 'HipHop' 'Classical' 'Jazz']\n",
      "prediction out put : ['HipHop' 'HipHop' 'Classical' 'Jazz']\n",
      "Accuracy: 100.000%\n",
      "precidion : 1.00\n",
      "recall : 100.000\n",
      "f1 score  : 100.000\n",
      "mean_squared_error  : 0.000\n",
      "mean_abs_error  : 0.000\n"
     ]
    }
   ],
   "source": [
    "# import neccessary libraries\n",
    "import pandas as pd \n",
    "from sklearn.tree import DecisionTreeClassifier\n",
    "from sklearn.model_selection import train_test_split\n",
    "from sklearn.preprocessing import LabelEncoder\n",
    "from sklearn.metrics import (\n",
    "accuracy_score,\n",
    "f1_score,\n",
    "precision_score,\n",
    "recall_score,\n",
    "mean_absolute_error,\n",
    "mean_squared_error\n",
    ")\n",
    "\n",
    "music = pd.read_csv('music.csv')\n",
    "# music\n",
    "x=  music.drop(columns =['genre'])\n",
    "# x\n",
    "y = music['genre']\n",
    "\n",
    "label_encoder = LabelEncoder()\n",
    "y_encoder = label_encoder.fit_transform(y)\n",
    "\n",
    "x_train, x_test, y_train, y_test=train_test_split(x, y_encoder, test_size=0.2, random_state=42)\n",
    "\n",
    "model = DecisionTreeClassifier()\n",
    "model.fit(x_train, y_train)\n",
    "y_pred = model.predict(x_test)\n",
    "\n",
    "y_pred_labels = label_encoder.inverse_transform(y_pred)\n",
    "print(f\"test output: {label_encoder.inverse_transform(y_test)}\")\n",
    "print(f\"prediction out put : {y_pred_labels}\")\n",
    "\n",
    "accuracy = model.score(x_test,y_test )\n",
    "print(f\"Accuracy: {accuracy * 100:.3f}%\")\n",
    "\n",
    "precision = precision_score(y_test, y_pred, average='macro')\n",
    "recall = recall_score(y_test, y_pred, average =\"macro\")\n",
    "f1 = f1_score(y_test, y_pred, average=\"macro\")\n",
    "mean_abs_error = mean_absolute_error(y_test, y_pred)\n",
    "mean_squared_error = mean_squared_error(y_test, y_pred)\n",
    "\n",
    "print(f\"precidion : {precision:.2f}\")\n",
    "print(f\"recall : {recall* 100:.3f}\")\n",
    "print(f\"f1 score  : {f1* 100:.3f}\")\n",
    "print(f\"mean_squared_error  : {mean_squared_error* 100:.3f}\")\n",
    "print(f\"mean_abs_error  : {mean_abs_error* 100:.3f}\")\n",
    "\n"
   ]
  },
  {
   "cell_type": "code",
   "execution_count": 40,
   "id": "a38f01cb-197a-43b6-9acf-3a53dbb93061",
   "metadata": {},
   "outputs": [
    {
     "data": {
      "text/plain": [
       "['label_encoder.joblib']"
      ]
     },
     "execution_count": 40,
     "metadata": {},
     "output_type": "execute_result"
    }
   ],
   "source": [
    "import joblib\n",
    "\n",
    "#save model\n",
    "joblib.dump(model, 'genre_model.joblib')\n",
    "joblib.dump(label_encoder,'label_encoder.joblib')"
   ]
  }
 ],
 "metadata": {
  "kernelspec": {
   "display_name": "Python 3 (ipykernel)",
   "language": "python",
   "name": "python3"
  },
  "language_info": {
   "codemirror_mode": {
    "name": "ipython",
    "version": 3
   },
   "file_extension": ".py",
   "mimetype": "text/x-python",
   "name": "python",
   "nbconvert_exporter": "python",
   "pygments_lexer": "ipython3",
   "version": "3.12.6"
  }
 },
 "nbformat": 4,
 "nbformat_minor": 5
}
